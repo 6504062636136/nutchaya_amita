{
  "nbformat": 4,
  "nbformat_minor": 0,
  "metadata": {
    "colab": {
      "provenance": []
    },
    "kernelspec": {
      "name": "python3",
      "display_name": "Python 3"
    },
    "language_info": {
      "name": "python"
    }
  },
  "cells": [
    {
      "cell_type": "code",
      "source": [
        "#อ้างอิงจาก Titanic: Machine Learning from Disaster: Kaggle Titanic Dataset\n",
        "#Random Forest Algorithm: Breiman, L. (2001). Random forests. Machine learning, 45(1), 5-32.\n",
        "#Scikit-learn Documentation: Scikit-learn"
      ],
      "metadata": {
        "id": "ErgjG9wX66Ql"
      },
      "execution_count": null,
      "outputs": []
    },
    {
      "cell_type": "code",
      "source": [
        "# ติดตั้งไลบรารีที่จำเป็น\n",
        "!pip install pandas scikit-learn joblib\n",
        "\n",
        "# นำเข้าไลบรารีที่ใช้ในโค้ด\n",
        "import pandas as pd\n",
        "import joblib\n",
        "from sklearn.model_selection import train_test_split  # ใช้สำหรับแบ่งข้อมูลเป็นชุดฝึกและชุดทดสอบ\n",
        "from sklearn.linear_model import LogisticRegression  # ใช้สำหรับสร้างโมเดล Logistic Regression\n",
        "from sklearn.preprocessing import LabelEncoder  # ใช้สำหรับแปลงข้อมูลที่เป็นตัวอักษรเป็นตัวเลข\n",
        "from sklearn.metrics import accuracy_score  # ใช้สำหรับประเมินความแม่นยำของโมเดล\n",
        "\n",
        "# โหลดข้อมูล Titanic จาก URL\n",
        "url = 'https://raw.githubusercontent.com/datasciencedojo/datasets/master/titanic.csv'\n",
        "data = pd.read_csv(url)  # โหลดข้อมูลจาก URL และเก็บใน DataFrame ที่ชื่อ 'data'\n",
        "\n",
        "# เติมค่า NaN ในคอลัมน์ 'Age' ด้วยค่าเฉลี่ยของคอลัมน์นั้น\n",
        "data['Age'] = data['Age'].fillna(data['Age'].mean())  # ใช้ค่าเฉลี่ยของ 'Age' แทนค่า NaN\n",
        "\n",
        "# เติมค่า NaN ในคอลัมน์ 'Embarked' ด้วยค่าที่พบบ่อยที่สุด (mode)\n",
        "data['Embarked'] = data['Embarked'].fillna(data['Embarked'].mode()[0]) # ใช้ค่าที่พบมากที่สุดใน 'Embarked' แทน NaN\n",
        "\n",
        "# ลบแถวที่มีค่า NaN ออก\n",
        "data.dropna(inplace=True)  # ลบแถวที่มีค่า NaN ที่เหลืออยู่ทั้งหมด\n",
        "\n",
        "# สร้าง LabelEncoder สำหรับแปลงข้อมูลเป็นตัวเลข\n",
        "label_encoder = LabelEncoder()\n",
        "\n",
        "# แปลงคอลัมน์ 'Sex' เป็นตัวเลข (0: female, 1: male)\n",
        "data['Sex'] = label_encoder.fit_transform(data['Sex'])  # แปลง 'Sex' ให้เป็นตัวเลข (0: female, 1: male)\n",
        "\n",
        "# แปลงคอลัมน์ 'Embarked' เป็นตัวเลข\n",
        "data['Embarked'] = label_encoder.fit_transform(data['Embarked'].fillna('S'))  # แปลง 'Embarked' เป็นตัวเลข โดยเติมค่า NaN เป็น 'S'\n",
        "\n",
        "# ลบคอลัมน์ที่ไม่จำเป็นออกจาก data เช่น 'Name' และ 'Cabin'\n",
        "data.drop(['Name', 'Cabin'], axis=1, inplace=True)  # ลบคอลัมน์ 'Name' และ 'Cabin' เพราะไม่จำเป็น\n",
        "\n",
        "# ตรวจสอบข้อมูลหลังจากที่ทำการแปลงแล้ว\n",
        "data.head()  # แสดงข้อมูล 5 แถวแรกใน DataFrame\n",
        "\n",
        "# แยก X (features) และ y (target)\n",
        "X = data.drop(['Survived', 'Ticket'], axis=1)  # ลบคอลัมน์ 'Survived' และ 'Ticket' ออกไปจาก features\n",
        "y = data['Survived']  # ตัวแปร y คือคอลัมน์ 'Survived' ซึ่งเป็นตัวแปรที่เราจะทำนาย\n",
        "\n",
        "# แบ่งข้อมูลเป็นชุดฝึก (training set) และชุดทดสอบ (testing set)\n",
        "X_train, X_test, y_train, y_test = train_test_split(X, y, test_size=0.2, random_state=42)\n",
        "# แบ่งข้อมูล 80% เป็นชุดฝึกและ 20% เป็นชุดทดสอบ โดยใช้ค่า random_state เพื่อให้ผลลัพธ์คงที่ทุกครั้งที่ทำการแบ่ง\n",
        "\n",
        "# สร้างโมเดล Logistic Regression\n",
        "log_model = LogisticRegression(max_iter=1000)  # สร้างโมเดล Logistic Regression โดยกำหนดให้ทำงานสูงสุด 1000 รอบ\n",
        "\n",
        "# ฝึกโมเดลด้วยข้อมูลฝึก (training data)\n",
        "log_model.fit(X_train, y_train)  # ใช้ข้อมูลฝึก (X_train, y_train) มาเรียนรู้โมเดล\n",
        "\n",
        "# ทำนายผลลัพธ์ด้วยข้อมูลทดสอบ (test data)\n",
        "y_pred = log_model.predict(X_test)  # ทำนายผลลัพธ์จากข้อมูลทดสอบ (X_test)\n",
        "\n",
        "# ประเมินความแม่นยำของโมเดลโดยใช้ accuracy score\n",
        "accuracy = accuracy_score(y_test, y_pred)  # วัดความแม่นยำโดยการเปรียบเทียบผลลัพธ์ที่ทำนาย (y_pred) กับผลลัพธ์จริง (y_test)\n",
        "print(f\"Logistic Regression Accuracy: {accuracy}\")  # แสดงความแม่นยำของโมเดล\n",
        "\n",
        "# บันทึกโมเดลที่ฝึกแล้วเป็นไฟล์ .pkl เพื่อใช้งานในอนาคต\n",
        "joblib.dump(log_model, 'titanic_model.pkl')  # บันทึกโมเดลที่ฝึกแล้วไปที่ไฟล์ 'titanic_model.pkl'\n"
      ],
      "metadata": {
        "colab": {
          "base_uri": "https://localhost:8080/"
        },
        "collapsed": true,
        "id": "HFOPnVWvVXof",
        "outputId": "baf3011a-0c3f-4a8a-d25a-9a1891f2927b"
      },
      "execution_count": null,
      "outputs": [
        {
          "output_type": "stream",
          "name": "stdout",
          "text": [
            "Requirement already satisfied: pandas in /usr/local/lib/python3.11/dist-packages (2.2.2)\n",
            "Requirement already satisfied: scikit-learn in /usr/local/lib/python3.11/dist-packages (1.6.1)\n",
            "Requirement already satisfied: joblib in /usr/local/lib/python3.11/dist-packages (1.4.2)\n",
            "Requirement already satisfied: numpy>=1.23.2 in /usr/local/lib/python3.11/dist-packages (from pandas) (1.26.4)\n",
            "Requirement already satisfied: python-dateutil>=2.8.2 in /usr/local/lib/python3.11/dist-packages (from pandas) (2.8.2)\n",
            "Requirement already satisfied: pytz>=2020.1 in /usr/local/lib/python3.11/dist-packages (from pandas) (2025.1)\n",
            "Requirement already satisfied: tzdata>=2022.7 in /usr/local/lib/python3.11/dist-packages (from pandas) (2025.1)\n",
            "Requirement already satisfied: scipy>=1.6.0 in /usr/local/lib/python3.11/dist-packages (from scikit-learn) (1.14.1)\n",
            "Requirement already satisfied: threadpoolctl>=3.1.0 in /usr/local/lib/python3.11/dist-packages (from scikit-learn) (3.5.0)\n",
            "Requirement already satisfied: six>=1.5 in /usr/local/lib/python3.11/dist-packages (from python-dateutil>=2.8.2->pandas) (1.17.0)\n",
            "Logistic Regression Accuracy: 0.8536585365853658\n"
          ]
        },
        {
          "output_type": "execute_result",
          "data": {
            "text/plain": [
              "['titanic_model.pkl']"
            ]
          },
          "metadata": {},
          "execution_count": 1
        }
      ]
    },
    {
      "cell_type": "code",
      "source": [
        "!pip install streamlit\n",
        "!pip install pyngrok"
      ],
      "metadata": {
        "colab": {
          "base_uri": "https://localhost:8080/"
        },
        "collapsed": true,
        "id": "KlaaLx7r_pPI",
        "outputId": "92c631f3-c7d7-4fe4-aca2-3452db86a611"
      },
      "execution_count": null,
      "outputs": [
        {
          "output_type": "stream",
          "name": "stdout",
          "text": [
            "Requirement already satisfied: streamlit in /usr/local/lib/python3.11/dist-packages (1.43.2)\n",
            "Requirement already satisfied: altair<6,>=4.0 in /usr/local/lib/python3.11/dist-packages (from streamlit) (5.5.0)\n",
            "Requirement already satisfied: blinker<2,>=1.0.0 in /usr/local/lib/python3.11/dist-packages (from streamlit) (1.9.0)\n",
            "Requirement already satisfied: cachetools<6,>=4.0 in /usr/local/lib/python3.11/dist-packages (from streamlit) (5.5.2)\n",
            "Requirement already satisfied: click<9,>=7.0 in /usr/local/lib/python3.11/dist-packages (from streamlit) (8.1.8)\n",
            "Requirement already satisfied: numpy<3,>=1.23 in /usr/local/lib/python3.11/dist-packages (from streamlit) (1.26.4)\n",
            "Requirement already satisfied: packaging<25,>=20 in /usr/local/lib/python3.11/dist-packages (from streamlit) (24.2)\n",
            "Requirement already satisfied: pandas<3,>=1.4.0 in /usr/local/lib/python3.11/dist-packages (from streamlit) (2.2.2)\n",
            "Requirement already satisfied: pillow<12,>=7.1.0 in /usr/local/lib/python3.11/dist-packages (from streamlit) (11.1.0)\n",
            "Requirement already satisfied: protobuf<6,>=3.20 in /usr/local/lib/python3.11/dist-packages (from streamlit) (4.25.6)\n",
            "Requirement already satisfied: pyarrow>=7.0 in /usr/local/lib/python3.11/dist-packages (from streamlit) (18.1.0)\n",
            "Requirement already satisfied: requests<3,>=2.27 in /usr/local/lib/python3.11/dist-packages (from streamlit) (2.32.3)\n",
            "Requirement already satisfied: tenacity<10,>=8.1.0 in /usr/local/lib/python3.11/dist-packages (from streamlit) (9.0.0)\n",
            "Requirement already satisfied: toml<2,>=0.10.1 in /usr/local/lib/python3.11/dist-packages (from streamlit) (0.10.2)\n",
            "Requirement already satisfied: typing-extensions<5,>=4.4.0 in /usr/local/lib/python3.11/dist-packages (from streamlit) (4.12.2)\n",
            "Requirement already satisfied: watchdog<7,>=2.1.5 in /usr/local/lib/python3.11/dist-packages (from streamlit) (6.0.0)\n",
            "Requirement already satisfied: gitpython!=3.1.19,<4,>=3.0.7 in /usr/local/lib/python3.11/dist-packages (from streamlit) (3.1.44)\n",
            "Requirement already satisfied: pydeck<1,>=0.8.0b4 in /usr/local/lib/python3.11/dist-packages (from streamlit) (0.9.1)\n",
            "Requirement already satisfied: tornado<7,>=6.0.3 in /usr/local/lib/python3.11/dist-packages (from streamlit) (6.4.2)\n",
            "Requirement already satisfied: jinja2 in /usr/local/lib/python3.11/dist-packages (from altair<6,>=4.0->streamlit) (3.1.6)\n",
            "Requirement already satisfied: jsonschema>=3.0 in /usr/local/lib/python3.11/dist-packages (from altair<6,>=4.0->streamlit) (4.23.0)\n",
            "Requirement already satisfied: narwhals>=1.14.2 in /usr/local/lib/python3.11/dist-packages (from altair<6,>=4.0->streamlit) (1.29.1)\n",
            "Requirement already satisfied: gitdb<5,>=4.0.1 in /usr/local/lib/python3.11/dist-packages (from gitpython!=3.1.19,<4,>=3.0.7->streamlit) (4.0.12)\n",
            "Requirement already satisfied: python-dateutil>=2.8.2 in /usr/local/lib/python3.11/dist-packages (from pandas<3,>=1.4.0->streamlit) (2.8.2)\n",
            "Requirement already satisfied: pytz>=2020.1 in /usr/local/lib/python3.11/dist-packages (from pandas<3,>=1.4.0->streamlit) (2025.1)\n",
            "Requirement already satisfied: tzdata>=2022.7 in /usr/local/lib/python3.11/dist-packages (from pandas<3,>=1.4.0->streamlit) (2025.1)\n",
            "Requirement already satisfied: charset-normalizer<4,>=2 in /usr/local/lib/python3.11/dist-packages (from requests<3,>=2.27->streamlit) (3.4.1)\n",
            "Requirement already satisfied: idna<4,>=2.5 in /usr/local/lib/python3.11/dist-packages (from requests<3,>=2.27->streamlit) (3.10)\n",
            "Requirement already satisfied: urllib3<3,>=1.21.1 in /usr/local/lib/python3.11/dist-packages (from requests<3,>=2.27->streamlit) (2.3.0)\n",
            "Requirement already satisfied: certifi>=2017.4.17 in /usr/local/lib/python3.11/dist-packages (from requests<3,>=2.27->streamlit) (2025.1.31)\n",
            "Requirement already satisfied: smmap<6,>=3.0.1 in /usr/local/lib/python3.11/dist-packages (from gitdb<5,>=4.0.1->gitpython!=3.1.19,<4,>=3.0.7->streamlit) (5.0.2)\n",
            "Requirement already satisfied: MarkupSafe>=2.0 in /usr/local/lib/python3.11/dist-packages (from jinja2->altair<6,>=4.0->streamlit) (3.0.2)\n",
            "Requirement already satisfied: attrs>=22.2.0 in /usr/local/lib/python3.11/dist-packages (from jsonschema>=3.0->altair<6,>=4.0->streamlit) (25.1.0)\n",
            "Requirement already satisfied: jsonschema-specifications>=2023.03.6 in /usr/local/lib/python3.11/dist-packages (from jsonschema>=3.0->altair<6,>=4.0->streamlit) (2024.10.1)\n",
            "Requirement already satisfied: referencing>=0.28.4 in /usr/local/lib/python3.11/dist-packages (from jsonschema>=3.0->altair<6,>=4.0->streamlit) (0.36.2)\n",
            "Requirement already satisfied: rpds-py>=0.7.1 in /usr/local/lib/python3.11/dist-packages (from jsonschema>=3.0->altair<6,>=4.0->streamlit) (0.23.1)\n",
            "Requirement already satisfied: six>=1.5 in /usr/local/lib/python3.11/dist-packages (from python-dateutil>=2.8.2->pandas<3,>=1.4.0->streamlit) (1.17.0)\n",
            "Requirement already satisfied: pyngrok in /usr/local/lib/python3.11/dist-packages (7.2.3)\n",
            "Requirement already satisfied: PyYAML>=5.1 in /usr/local/lib/python3.11/dist-packages (from pyngrok) (6.0.2)\n"
          ]
        }
      ]
    },
    {
      "cell_type": "code",
      "source": [
        "data.columns = data.columns.str.strip()  # ลบช่องว่างที่ไม่จำเป็น\n",
        "\n",
        "\n",
        "# แสดงข้อมูลที่ถูกเตรียมให้พร้อมใช้งาน\n",
        "print(data.head())\n"
      ],
      "metadata": {
        "colab": {
          "base_uri": "https://localhost:8080/"
        },
        "id": "8N1JOb05YQfs",
        "outputId": "a6e84020-c2cb-45a1-99cf-5c70fa4c6652",
        "collapsed": true
      },
      "execution_count": null,
      "outputs": [
        {
          "output_type": "stream",
          "name": "stdout",
          "text": [
            "    PassengerId  Survived  Pclass  Sex   Age  SibSp  Parch    Ticket     Fare  \\\n",
            "1             2         1       1    0  38.0      1      0  PC 17599  71.2833   \n",
            "3             4         1       1    0  35.0      1      0    113803  53.1000   \n",
            "6             7         0       1    1  54.0      0      0     17463  51.8625   \n",
            "10           11         1       3    0   4.0      1      1   PP 9549  16.7000   \n",
            "11           12         1       1    0  58.0      0      0    113783  26.5500   \n",
            "\n",
            "    Embarked  \n",
            "1          0  \n",
            "3          2  \n",
            "6          2  \n",
            "10         2  \n",
            "11         2  \n"
          ]
        }
      ]
    },
    {
      "cell_type": "code",
      "source": [
        "!pip install streamlit pyngrok"
      ],
      "metadata": {
        "colab": {
          "base_uri": "https://localhost:8080/"
        },
        "id": "Tp0-t-bitiS0",
        "outputId": "b834ff47-c9c6-4b1e-9625-6922e151388a",
        "collapsed": true
      },
      "execution_count": null,
      "outputs": [
        {
          "output_type": "stream",
          "name": "stdout",
          "text": [
            "Requirement already satisfied: streamlit in /usr/local/lib/python3.11/dist-packages (1.43.2)\n",
            "Requirement already satisfied: pyngrok in /usr/local/lib/python3.11/dist-packages (7.2.3)\n",
            "Requirement already satisfied: altair<6,>=4.0 in /usr/local/lib/python3.11/dist-packages (from streamlit) (5.5.0)\n",
            "Requirement already satisfied: blinker<2,>=1.0.0 in /usr/local/lib/python3.11/dist-packages (from streamlit) (1.9.0)\n",
            "Requirement already satisfied: cachetools<6,>=4.0 in /usr/local/lib/python3.11/dist-packages (from streamlit) (5.5.2)\n",
            "Requirement already satisfied: click<9,>=7.0 in /usr/local/lib/python3.11/dist-packages (from streamlit) (8.1.8)\n",
            "Requirement already satisfied: numpy<3,>=1.23 in /usr/local/lib/python3.11/dist-packages (from streamlit) (1.26.4)\n",
            "Requirement already satisfied: packaging<25,>=20 in /usr/local/lib/python3.11/dist-packages (from streamlit) (24.2)\n",
            "Requirement already satisfied: pandas<3,>=1.4.0 in /usr/local/lib/python3.11/dist-packages (from streamlit) (2.2.2)\n",
            "Requirement already satisfied: pillow<12,>=7.1.0 in /usr/local/lib/python3.11/dist-packages (from streamlit) (11.1.0)\n",
            "Requirement already satisfied: protobuf<6,>=3.20 in /usr/local/lib/python3.11/dist-packages (from streamlit) (4.25.6)\n",
            "Requirement already satisfied: pyarrow>=7.0 in /usr/local/lib/python3.11/dist-packages (from streamlit) (18.1.0)\n",
            "Requirement already satisfied: requests<3,>=2.27 in /usr/local/lib/python3.11/dist-packages (from streamlit) (2.32.3)\n",
            "Requirement already satisfied: tenacity<10,>=8.1.0 in /usr/local/lib/python3.11/dist-packages (from streamlit) (9.0.0)\n",
            "Requirement already satisfied: toml<2,>=0.10.1 in /usr/local/lib/python3.11/dist-packages (from streamlit) (0.10.2)\n",
            "Requirement already satisfied: typing-extensions<5,>=4.4.0 in /usr/local/lib/python3.11/dist-packages (from streamlit) (4.12.2)\n",
            "Requirement already satisfied: watchdog<7,>=2.1.5 in /usr/local/lib/python3.11/dist-packages (from streamlit) (6.0.0)\n",
            "Requirement already satisfied: gitpython!=3.1.19,<4,>=3.0.7 in /usr/local/lib/python3.11/dist-packages (from streamlit) (3.1.44)\n",
            "Requirement already satisfied: pydeck<1,>=0.8.0b4 in /usr/local/lib/python3.11/dist-packages (from streamlit) (0.9.1)\n",
            "Requirement already satisfied: tornado<7,>=6.0.3 in /usr/local/lib/python3.11/dist-packages (from streamlit) (6.4.2)\n",
            "Requirement already satisfied: PyYAML>=5.1 in /usr/local/lib/python3.11/dist-packages (from pyngrok) (6.0.2)\n",
            "Requirement already satisfied: jinja2 in /usr/local/lib/python3.11/dist-packages (from altair<6,>=4.0->streamlit) (3.1.6)\n",
            "Requirement already satisfied: jsonschema>=3.0 in /usr/local/lib/python3.11/dist-packages (from altair<6,>=4.0->streamlit) (4.23.0)\n",
            "Requirement already satisfied: narwhals>=1.14.2 in /usr/local/lib/python3.11/dist-packages (from altair<6,>=4.0->streamlit) (1.29.1)\n",
            "Requirement already satisfied: gitdb<5,>=4.0.1 in /usr/local/lib/python3.11/dist-packages (from gitpython!=3.1.19,<4,>=3.0.7->streamlit) (4.0.12)\n",
            "Requirement already satisfied: python-dateutil>=2.8.2 in /usr/local/lib/python3.11/dist-packages (from pandas<3,>=1.4.0->streamlit) (2.8.2)\n",
            "Requirement already satisfied: pytz>=2020.1 in /usr/local/lib/python3.11/dist-packages (from pandas<3,>=1.4.0->streamlit) (2025.1)\n",
            "Requirement already satisfied: tzdata>=2022.7 in /usr/local/lib/python3.11/dist-packages (from pandas<3,>=1.4.0->streamlit) (2025.1)\n",
            "Requirement already satisfied: charset-normalizer<4,>=2 in /usr/local/lib/python3.11/dist-packages (from requests<3,>=2.27->streamlit) (3.4.1)\n",
            "Requirement already satisfied: idna<4,>=2.5 in /usr/local/lib/python3.11/dist-packages (from requests<3,>=2.27->streamlit) (3.10)\n",
            "Requirement already satisfied: urllib3<3,>=1.21.1 in /usr/local/lib/python3.11/dist-packages (from requests<3,>=2.27->streamlit) (2.3.0)\n",
            "Requirement already satisfied: certifi>=2017.4.17 in /usr/local/lib/python3.11/dist-packages (from requests<3,>=2.27->streamlit) (2025.1.31)\n",
            "Requirement already satisfied: smmap<6,>=3.0.1 in /usr/local/lib/python3.11/dist-packages (from gitdb<5,>=4.0.1->gitpython!=3.1.19,<4,>=3.0.7->streamlit) (5.0.2)\n",
            "Requirement already satisfied: MarkupSafe>=2.0 in /usr/local/lib/python3.11/dist-packages (from jinja2->altair<6,>=4.0->streamlit) (3.0.2)\n",
            "Requirement already satisfied: attrs>=22.2.0 in /usr/local/lib/python3.11/dist-packages (from jsonschema>=3.0->altair<6,>=4.0->streamlit) (25.1.0)\n",
            "Requirement already satisfied: jsonschema-specifications>=2023.03.6 in /usr/local/lib/python3.11/dist-packages (from jsonschema>=3.0->altair<6,>=4.0->streamlit) (2024.10.1)\n",
            "Requirement already satisfied: referencing>=0.28.4 in /usr/local/lib/python3.11/dist-packages (from jsonschema>=3.0->altair<6,>=4.0->streamlit) (0.36.2)\n",
            "Requirement already satisfied: rpds-py>=0.7.1 in /usr/local/lib/python3.11/dist-packages (from jsonschema>=3.0->altair<6,>=4.0->streamlit) (0.23.1)\n",
            "Requirement already satisfied: six>=1.5 in /usr/local/lib/python3.11/dist-packages (from python-dateutil>=2.8.2->pandas<3,>=1.4.0->streamlit) (1.17.0)\n"
          ]
        }
      ]
    },
    {
      "cell_type": "code",
      "source": [
        "%%writefile app.py\n",
        "import streamlit as st\n",
        "import pandas as pd\n",
        "import joblib\n",
        "\n",
        "# โหลดโมเดลจากไฟล์\n",
        "model = joblib.load('titanic_model.pkl')\n",
        "\n",
        "# โหลดข้อมูล\n",
        "url = \"https://raw.githubusercontent.com/datasciencedojo/datasets/master/titanic.csv\"\n",
        "data = pd.read_csv(url)\n",
        "\n",
        "# ลบคอลัมน์ที่ไม่ใช่ตัวเลข\n",
        "data = data.drop(columns=['Name', 'Ticket', 'Cabin'])\n",
        "\n",
        "# เตรียมข้อมูล\n",
        "data['Sex'] = data['Sex'].map({'male': 0, 'female': 1})\n",
        "data['Embarked'] = data['Embarked'].map({'C': 0, 'Q': 1, 'S': 2})\n",
        "\n",
        "# เติมค่า NaN ด้วยค่าเฉลี่ยในคอลัมน์ตัวเลข\n",
        "data = data.fillna(data.select_dtypes(include=['float64', 'int64']).mean())\n",
        "\n",
        "# แยก X และ y\n",
        "X = data[['Pclass', 'Sex', 'Age', 'SibSp', 'Parch', 'Fare', 'Embarked']]\n",
        "y = data['Survived']\n",
        "\n",
        "# Streamlit UI\n",
        "st.title(\"Titanic Survival Prediction\")\n",
        "Pclass = st.selectbox(\"Pclass\", [1, 2, 3])\n",
        "Sex = st.selectbox(\"Sex\", ['Male', 'Female'])\n",
        "Age = st.number_input(\"Age\", min_value=0, max_value=100, value=30)\n",
        "SibSp = st.number_input(\"SibSp\", min_value=0, value=0)\n",
        "Parch = st.number_input(\"Parch\", min_value=0, value=0)\n",
        "Fare = st.number_input(\"Fare\", min_value=0, value=10)\n",
        "Embarked = st.selectbox(\"Embarked\", ['C', 'Q', 'S'])\n",
        "\n",
        "# แปลงข้อมูล\n",
        "Sex = 0 if Sex == 'Male' else 1\n",
        "Embarked = {'C': 0, 'Q': 1, 'S': 2}[Embarked]\n",
        "\n",
        "# สร้าง DataFrame สำหรับ input_data\n",
        "input_data = pd.DataFrame([[Pclass, Sex, Age, SibSp, Parch, Fare, Embarked]],\n",
        "                          columns=['Pclass', 'Sex', 'Age', 'SibSp', 'Parch', 'Fare', 'Embarked'])\n",
        "\n",
        "# เพิ่ม PassengerId (ค่าใดก็ได้)\n",
        "input_data['PassengerId'] = 99999\n",
        "\n",
        "# เรียงลำดับคอลัมน์ให้ตรงกับข้อมูลที่ใช้ฝึกโมเดล\n",
        "cols = ['PassengerId', 'Pclass', 'Sex', 'Age', 'SibSp', 'Parch', 'Fare', 'Embarked']\n",
        "input_data = input_data.reindex(columns=cols, fill_value=0)\n",
        "\n",
        "\n",
        "# ทำนายผลทันทีเมื่อข้อมูลพร้อม\n",
        "prediction = model.predict(input_data)\n",
        "\n",
        "# แสดงผลลัพธ์\n",
        "if prediction == 1:\n",
        "    st.write(\"You will survive!\")\n",
        "else:\n",
        "    st.write(\"Sorry, you won't survive.\")\n"
      ],
      "metadata": {
        "collapsed": true,
        "colab": {
          "base_uri": "https://localhost:8080/"
        },
        "id": "q8eXWToT_vdI",
        "outputId": "797f011d-4e8b-4588-e845-fd0b031773fd"
      },
      "execution_count": null,
      "outputs": [
        {
          "output_type": "stream",
          "name": "stdout",
          "text": [
            "Overwriting app.py\n"
          ]
        }
      ]
    },
    {
      "cell_type": "markdown",
      "source": [],
      "metadata": {
        "id": "3p1yjTJ6xFQK"
      }
    }
  ]
}